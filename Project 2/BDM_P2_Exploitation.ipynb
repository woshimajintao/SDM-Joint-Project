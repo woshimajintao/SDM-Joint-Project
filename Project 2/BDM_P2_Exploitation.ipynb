{
  "cells": [
    {
      "cell_type": "markdown",
      "metadata": {
        "id": "view-in-github",
        "colab_type": "text"
      },
      "source": [
        "<a href=\"https://colab.research.google.com/github/woshimajintao/SDM-Joint-Project/blob/main/Project%202/BDM_P2_Exploitation.ipynb\" target=\"_parent\"><img src=\"https://colab.research.google.com/assets/colab-badge.svg\" alt=\"Open In Colab\"/></a>"
      ]
    },
    {
      "cell_type": "code",
      "execution_count": 1,
      "metadata": {
        "colab": {
          "base_uri": "https://localhost:8080/"
        },
        "id": "xtl59G6OS8Ml",
        "outputId": "4ea109cb-2661-47da-cb0e-78afae8ef84e"
      },
      "outputs": [
        {
          "output_type": "stream",
          "name": "stdout",
          "text": [
            "Collecting pyspark\n",
            "  Downloading pyspark-3.5.1.tar.gz (317.0 MB)\n",
            "\u001b[2K     \u001b[90m━━━━━━━━━━━━━━━━━━━━━━━━━━━━━━━━━━━━━━━━\u001b[0m \u001b[32m317.0/317.0 MB\u001b[0m \u001b[31m2.1 MB/s\u001b[0m eta \u001b[36m0:00:00\u001b[0m\n",
            "\u001b[?25h  Preparing metadata (setup.py) ... \u001b[?25l\u001b[?25hdone\n",
            "Requirement already satisfied: py4j==0.10.9.7 in /usr/local/lib/python3.10/dist-packages (from pyspark) (0.10.9.7)\n",
            "Building wheels for collected packages: pyspark\n",
            "  Building wheel for pyspark (setup.py) ... \u001b[?25l\u001b[?25hdone\n",
            "  Created wheel for pyspark: filename=pyspark-3.5.1-py2.py3-none-any.whl size=317488491 sha256=4d014162e79966e5c84ef0f8683a928ccae26adfaaca898da437757ad10c0150\n",
            "  Stored in directory: /root/.cache/pip/wheels/80/1d/60/2c256ed38dddce2fdd93be545214a63e02fbd8d74fb0b7f3a6\n",
            "Successfully built pyspark\n",
            "Installing collected packages: pyspark\n",
            "Successfully installed pyspark-3.5.1\n",
            "Collecting delta-spark\n",
            "  Downloading delta_spark-3.2.0-py3-none-any.whl (21 kB)\n",
            "Requirement already satisfied: pyspark<3.6.0,>=3.5.0 in /usr/local/lib/python3.10/dist-packages (from delta-spark) (3.5.1)\n",
            "Requirement already satisfied: importlib-metadata>=1.0.0 in /usr/local/lib/python3.10/dist-packages (from delta-spark) (7.1.0)\n",
            "Requirement already satisfied: zipp>=0.5 in /usr/local/lib/python3.10/dist-packages (from importlib-metadata>=1.0.0->delta-spark) (3.19.2)\n",
            "Requirement already satisfied: py4j==0.10.9.7 in /usr/local/lib/python3.10/dist-packages (from pyspark<3.6.0,>=3.5.0->delta-spark) (0.10.9.7)\n",
            "Installing collected packages: delta-spark\n",
            "Successfully installed delta-spark-3.2.0\n",
            "Requirement already satisfied: statsmodels in /usr/local/lib/python3.10/dist-packages (0.14.2)\n",
            "Requirement already satisfied: numpy>=1.22.3 in /usr/local/lib/python3.10/dist-packages (from statsmodels) (1.25.2)\n",
            "Requirement already satisfied: scipy!=1.9.2,>=1.8 in /usr/local/lib/python3.10/dist-packages (from statsmodels) (1.11.4)\n",
            "Requirement already satisfied: pandas!=2.1.0,>=1.4 in /usr/local/lib/python3.10/dist-packages (from statsmodels) (2.0.3)\n",
            "Requirement already satisfied: patsy>=0.5.6 in /usr/local/lib/python3.10/dist-packages (from statsmodels) (0.5.6)\n",
            "Requirement already satisfied: packaging>=21.3 in /usr/local/lib/python3.10/dist-packages (from statsmodels) (24.1)\n",
            "Requirement already satisfied: python-dateutil>=2.8.2 in /usr/local/lib/python3.10/dist-packages (from pandas!=2.1.0,>=1.4->statsmodels) (2.8.2)\n",
            "Requirement already satisfied: pytz>=2020.1 in /usr/local/lib/python3.10/dist-packages (from pandas!=2.1.0,>=1.4->statsmodels) (2023.4)\n",
            "Requirement already satisfied: tzdata>=2022.1 in /usr/local/lib/python3.10/dist-packages (from pandas!=2.1.0,>=1.4->statsmodels) (2024.1)\n",
            "Requirement already satisfied: six in /usr/local/lib/python3.10/dist-packages (from patsy>=0.5.6->statsmodels) (1.16.0)\n",
            "Collecting mlflow\n",
            "  Downloading mlflow-2.14.1-py3-none-any.whl (25.8 MB)\n",
            "\u001b[2K     \u001b[90m━━━━━━━━━━━━━━━━━━━━━━━━━━━━━━━━━━━━━━━━\u001b[0m \u001b[32m25.8/25.8 MB\u001b[0m \u001b[31m46.8 MB/s\u001b[0m eta \u001b[36m0:00:00\u001b[0m\n",
            "\u001b[?25hRequirement already satisfied: Flask<4 in /usr/local/lib/python3.10/dist-packages (from mlflow) (2.2.5)\n",
            "Collecting alembic!=1.10.0,<2 (from mlflow)\n",
            "  Downloading alembic-1.13.1-py3-none-any.whl (233 kB)\n",
            "\u001b[2K     \u001b[90m━━━━━━━━━━━━━━━━━━━━━━━━━━━━━━━━━━━━━━━━\u001b[0m \u001b[32m233.4/233.4 kB\u001b[0m \u001b[31m25.3 MB/s\u001b[0m eta \u001b[36m0:00:00\u001b[0m\n",
            "\u001b[?25hRequirement already satisfied: cachetools<6,>=5.0.0 in /usr/local/lib/python3.10/dist-packages (from mlflow) (5.3.3)\n",
            "Requirement already satisfied: click<9,>=7.0 in /usr/local/lib/python3.10/dist-packages (from mlflow) (8.1.7)\n",
            "Requirement already satisfied: cloudpickle<4 in /usr/local/lib/python3.10/dist-packages (from mlflow) (2.2.1)\n",
            "Collecting docker<8,>=4.0.0 (from mlflow)\n",
            "  Downloading docker-7.1.0-py3-none-any.whl (147 kB)\n",
            "\u001b[2K     \u001b[90m━━━━━━━━━━━━━━━━━━━━━━━━━━━━━━━━━━━━━━━━\u001b[0m \u001b[32m147.8/147.8 kB\u001b[0m \u001b[31m18.0 MB/s\u001b[0m eta \u001b[36m0:00:00\u001b[0m\n",
            "\u001b[?25hRequirement already satisfied: entrypoints<1 in /usr/local/lib/python3.10/dist-packages (from mlflow) (0.4)\n",
            "Collecting gitpython<4,>=3.1.9 (from mlflow)\n",
            "  Downloading GitPython-3.1.43-py3-none-any.whl (207 kB)\n",
            "\u001b[2K     \u001b[90m━━━━━━━━━━━━━━━━━━━━━━━━━━━━━━━━━━━━━━━━\u001b[0m \u001b[32m207.3/207.3 kB\u001b[0m \u001b[31m24.8 MB/s\u001b[0m eta \u001b[36m0:00:00\u001b[0m\n",
            "\u001b[?25hCollecting graphene<4 (from mlflow)\n",
            "  Downloading graphene-3.3-py2.py3-none-any.whl (128 kB)\n",
            "\u001b[2K     \u001b[90m━━━━━━━━━━━━━━━━━━━━━━━━━━━━━━━━━━━━━━━━\u001b[0m \u001b[32m128.2/128.2 kB\u001b[0m \u001b[31m13.8 MB/s\u001b[0m eta \u001b[36m0:00:00\u001b[0m\n",
            "\u001b[?25hRequirement already satisfied: importlib-metadata!=4.7.0,<8,>=3.7.0 in /usr/local/lib/python3.10/dist-packages (from mlflow) (7.1.0)\n",
            "Requirement already satisfied: markdown<4,>=3.3 in /usr/local/lib/python3.10/dist-packages (from mlflow) (3.6)\n",
            "Requirement already satisfied: matplotlib<4 in /usr/local/lib/python3.10/dist-packages (from mlflow) (3.7.1)\n",
            "Requirement already satisfied: numpy<2 in /usr/local/lib/python3.10/dist-packages (from mlflow) (1.25.2)\n",
            "Collecting opentelemetry-api<3,>=1.9.0 (from mlflow)\n",
            "  Downloading opentelemetry_api-1.25.0-py3-none-any.whl (59 kB)\n",
            "\u001b[2K     \u001b[90m━━━━━━━━━━━━━━━━━━━━━━━━━━━━━━━━━━━━━━━━\u001b[0m \u001b[32m59.9/59.9 kB\u001b[0m \u001b[31m7.4 MB/s\u001b[0m eta \u001b[36m0:00:00\u001b[0m\n",
            "\u001b[?25hCollecting opentelemetry-sdk<3,>=1.9.0 (from mlflow)\n",
            "  Downloading opentelemetry_sdk-1.25.0-py3-none-any.whl (107 kB)\n",
            "\u001b[2K     \u001b[90m━━━━━━━━━━━━━━━━━━━━━━━━━━━━━━━━━━━━━━━━\u001b[0m \u001b[32m107.0/107.0 kB\u001b[0m \u001b[31m13.4 MB/s\u001b[0m eta \u001b[36m0:00:00\u001b[0m\n",
            "\u001b[?25hRequirement already satisfied: packaging<25 in /usr/local/lib/python3.10/dist-packages (from mlflow) (24.1)\n",
            "Requirement already satisfied: pandas<3 in /usr/local/lib/python3.10/dist-packages (from mlflow) (2.0.3)\n",
            "Requirement already satisfied: protobuf<5,>=3.12.0 in /usr/local/lib/python3.10/dist-packages (from mlflow) (3.20.3)\n",
            "Requirement already satisfied: pyarrow<16,>=4.0.0 in /usr/local/lib/python3.10/dist-packages (from mlflow) (14.0.2)\n",
            "Requirement already satisfied: pytz<2025 in /usr/local/lib/python3.10/dist-packages (from mlflow) (2023.4)\n",
            "Requirement already satisfied: pyyaml<7,>=5.1 in /usr/local/lib/python3.10/dist-packages (from mlflow) (6.0.1)\n",
            "Collecting querystring-parser<2 (from mlflow)\n",
            "  Downloading querystring_parser-1.2.4-py2.py3-none-any.whl (7.9 kB)\n",
            "Requirement already satisfied: requests<3,>=2.17.3 in /usr/local/lib/python3.10/dist-packages (from mlflow) (2.31.0)\n",
            "Requirement already satisfied: scikit-learn<2 in /usr/local/lib/python3.10/dist-packages (from mlflow) (1.2.2)\n",
            "Requirement already satisfied: scipy<2 in /usr/local/lib/python3.10/dist-packages (from mlflow) (1.11.4)\n",
            "Requirement already satisfied: sqlalchemy<3,>=1.4.0 in /usr/local/lib/python3.10/dist-packages (from mlflow) (2.0.30)\n",
            "Requirement already satisfied: sqlparse<1,>=0.4.0 in /usr/local/lib/python3.10/dist-packages (from mlflow) (0.5.0)\n",
            "Requirement already satisfied: Jinja2<4,>=2.11 in /usr/local/lib/python3.10/dist-packages (from mlflow) (3.1.4)\n",
            "Collecting gunicorn<23 (from mlflow)\n",
            "  Downloading gunicorn-22.0.0-py3-none-any.whl (84 kB)\n",
            "\u001b[2K     \u001b[90m━━━━━━━━━━━━━━━━━━━━━━━━━━━━━━━━━━━━━━━━\u001b[0m \u001b[32m84.4/84.4 kB\u001b[0m \u001b[31m10.3 MB/s\u001b[0m eta \u001b[36m0:00:00\u001b[0m\n",
            "\u001b[?25hCollecting Mako (from alembic!=1.10.0,<2->mlflow)\n",
            "  Downloading Mako-1.3.5-py3-none-any.whl (78 kB)\n",
            "\u001b[2K     \u001b[90m━━━━━━━━━━━━━━━━━━━━━━━━━━━━━━━━━━━━━━━━\u001b[0m \u001b[32m78.6/78.6 kB\u001b[0m \u001b[31m8.7 MB/s\u001b[0m eta \u001b[36m0:00:00\u001b[0m\n",
            "\u001b[?25hRequirement already satisfied: typing-extensions>=4 in /usr/local/lib/python3.10/dist-packages (from alembic!=1.10.0,<2->mlflow) (4.12.2)\n",
            "Requirement already satisfied: urllib3>=1.26.0 in /usr/local/lib/python3.10/dist-packages (from docker<8,>=4.0.0->mlflow) (2.0.7)\n",
            "Requirement already satisfied: Werkzeug>=2.2.2 in /usr/local/lib/python3.10/dist-packages (from Flask<4->mlflow) (3.0.3)\n",
            "Requirement already satisfied: itsdangerous>=2.0 in /usr/local/lib/python3.10/dist-packages (from Flask<4->mlflow) (2.2.0)\n",
            "Collecting gitdb<5,>=4.0.1 (from gitpython<4,>=3.1.9->mlflow)\n",
            "  Downloading gitdb-4.0.11-py3-none-any.whl (62 kB)\n",
            "\u001b[2K     \u001b[90m━━━━━━━━━━━━━━━━━━━━━━━━━━━━━━━━━━━━━━━━\u001b[0m \u001b[32m62.7/62.7 kB\u001b[0m \u001b[31m8.3 MB/s\u001b[0m eta \u001b[36m0:00:00\u001b[0m\n",
            "\u001b[?25hCollecting graphql-core<3.3,>=3.1 (from graphene<4->mlflow)\n",
            "  Downloading graphql_core-3.2.3-py3-none-any.whl (202 kB)\n",
            "\u001b[2K     \u001b[90m━━━━━━━━━━━━━━━━━━━━━━━━━━━━━━━━━━━━━━━━\u001b[0m \u001b[32m202.9/202.9 kB\u001b[0m \u001b[31m21.3 MB/s\u001b[0m eta \u001b[36m0:00:00\u001b[0m\n",
            "\u001b[?25hCollecting graphql-relay<3.3,>=3.1 (from graphene<4->mlflow)\n",
            "  Downloading graphql_relay-3.2.0-py3-none-any.whl (16 kB)\n",
            "Collecting aniso8601<10,>=8 (from graphene<4->mlflow)\n",
            "  Downloading aniso8601-9.0.1-py2.py3-none-any.whl (52 kB)\n",
            "\u001b[2K     \u001b[90m━━━━━━━━━━━━━━━━━━━━━━━━━━━━━━━━━━━━━━━━\u001b[0m \u001b[32m52.8/52.8 kB\u001b[0m \u001b[31m6.6 MB/s\u001b[0m eta \u001b[36m0:00:00\u001b[0m\n",
            "\u001b[?25hRequirement already satisfied: zipp>=0.5 in /usr/local/lib/python3.10/dist-packages (from importlib-metadata!=4.7.0,<8,>=3.7.0->mlflow) (3.19.2)\n",
            "Requirement already satisfied: MarkupSafe>=2.0 in /usr/local/lib/python3.10/dist-packages (from Jinja2<4,>=2.11->mlflow) (2.1.5)\n",
            "Requirement already satisfied: contourpy>=1.0.1 in /usr/local/lib/python3.10/dist-packages (from matplotlib<4->mlflow) (1.2.1)\n",
            "Requirement already satisfied: cycler>=0.10 in /usr/local/lib/python3.10/dist-packages (from matplotlib<4->mlflow) (0.12.1)\n",
            "Requirement already satisfied: fonttools>=4.22.0 in /usr/local/lib/python3.10/dist-packages (from matplotlib<4->mlflow) (4.53.0)\n",
            "Requirement already satisfied: kiwisolver>=1.0.1 in /usr/local/lib/python3.10/dist-packages (from matplotlib<4->mlflow) (1.4.5)\n",
            "Requirement already satisfied: pillow>=6.2.0 in /usr/local/lib/python3.10/dist-packages (from matplotlib<4->mlflow) (9.4.0)\n",
            "Requirement already satisfied: pyparsing>=2.3.1 in /usr/local/lib/python3.10/dist-packages (from matplotlib<4->mlflow) (3.1.2)\n",
            "Requirement already satisfied: python-dateutil>=2.7 in /usr/local/lib/python3.10/dist-packages (from matplotlib<4->mlflow) (2.8.2)\n",
            "Collecting deprecated>=1.2.6 (from opentelemetry-api<3,>=1.9.0->mlflow)\n",
            "  Downloading Deprecated-1.2.14-py2.py3-none-any.whl (9.6 kB)\n",
            "Collecting opentelemetry-semantic-conventions==0.46b0 (from opentelemetry-sdk<3,>=1.9.0->mlflow)\n",
            "  Downloading opentelemetry_semantic_conventions-0.46b0-py3-none-any.whl (130 kB)\n",
            "\u001b[2K     \u001b[90m━━━━━━━━━━━━━━━━━━━━━━━━━━━━━━━━━━━━━━━━\u001b[0m \u001b[32m130.5/130.5 kB\u001b[0m \u001b[31m15.7 MB/s\u001b[0m eta \u001b[36m0:00:00\u001b[0m\n",
            "\u001b[?25hRequirement already satisfied: tzdata>=2022.1 in /usr/local/lib/python3.10/dist-packages (from pandas<3->mlflow) (2024.1)\n",
            "Requirement already satisfied: six in /usr/local/lib/python3.10/dist-packages (from querystring-parser<2->mlflow) (1.16.0)\n",
            "Requirement already satisfied: charset-normalizer<4,>=2 in /usr/local/lib/python3.10/dist-packages (from requests<3,>=2.17.3->mlflow) (3.3.2)\n",
            "Requirement already satisfied: idna<4,>=2.5 in /usr/local/lib/python3.10/dist-packages (from requests<3,>=2.17.3->mlflow) (3.7)\n",
            "Requirement already satisfied: certifi>=2017.4.17 in /usr/local/lib/python3.10/dist-packages (from requests<3,>=2.17.3->mlflow) (2024.6.2)\n",
            "Requirement already satisfied: joblib>=1.1.1 in /usr/local/lib/python3.10/dist-packages (from scikit-learn<2->mlflow) (1.4.2)\n",
            "Requirement already satisfied: threadpoolctl>=2.0.0 in /usr/local/lib/python3.10/dist-packages (from scikit-learn<2->mlflow) (3.5.0)\n",
            "Requirement already satisfied: greenlet!=0.4.17 in /usr/local/lib/python3.10/dist-packages (from sqlalchemy<3,>=1.4.0->mlflow) (3.0.3)\n",
            "Requirement already satisfied: wrapt<2,>=1.10 in /usr/local/lib/python3.10/dist-packages (from deprecated>=1.2.6->opentelemetry-api<3,>=1.9.0->mlflow) (1.14.1)\n",
            "Collecting smmap<6,>=3.0.1 (from gitdb<5,>=4.0.1->gitpython<4,>=3.1.9->mlflow)\n",
            "  Downloading smmap-5.0.1-py3-none-any.whl (24 kB)\n",
            "Installing collected packages: aniso8601, smmap, querystring-parser, Mako, gunicorn, graphql-core, deprecated, opentelemetry-api, graphql-relay, gitdb, docker, alembic, opentelemetry-semantic-conventions, graphene, gitpython, opentelemetry-sdk, mlflow\n",
            "Successfully installed Mako-1.3.5 alembic-1.13.1 aniso8601-9.0.1 deprecated-1.2.14 docker-7.1.0 gitdb-4.0.11 gitpython-3.1.43 graphene-3.3 graphql-core-3.2.3 graphql-relay-3.2.0 gunicorn-22.0.0 mlflow-2.14.1 opentelemetry-api-1.25.0 opentelemetry-sdk-1.25.0 opentelemetry-semantic-conventions-0.46b0 querystring-parser-1.2.4 smmap-5.0.1\n"
          ]
        }
      ],
      "source": [
        "!pip install pyspark\n",
        "!pip install delta-spark\n",
        "!pip install statsmodels\n",
        "!pip install mlflow"
      ]
    },
    {
      "cell_type": "code",
      "execution_count": 19,
      "metadata": {
        "id": "VSlth008TJDF"
      },
      "outputs": [],
      "source": [
        "import mlflow\n",
        "import mlflow.spark\n",
        "from google.colab import drive\n",
        "from pyspark.sql import SparkSession\n",
        "from pyspark.mllib.regression import LabeledPoint, LinearRegressionModel, LinearRegressionWithSGD\n",
        "from pyspark.mllib.evaluation import RegressionMetrics\n",
        "from pyspark.mllib.feature import StandardScaler\n",
        "from pyspark.ml.evaluation import RegressionEvaluator\n",
        "from pyspark.sql.functions import col, avg, count, when, datediff, current_date, to_date, regexp_replace, month, dayofmonth, sum as _sum, coalesce, lit, isnan, unix_timestamp, lag, from_json, lead, rand, percentile_approx\n",
        "from pyspark.sql.types import StructType, StructField, DoubleType, IntegerType, LongType, StringType\n",
        "from pyspark.sql import functions as F\n",
        "from pyspark.sql.window import Window\n",
        "from pyspark.sql import Row\n",
        "from delta.tables import DeltaTable\n",
        "from delta import configure_spark_with_delta_pip\n",
        "from sklearn.metrics import mean_squared_error, mean_absolute_error, r2_score\n",
        "import os\n",
        "import json\n",
        "import time\n",
        "import glob\n",
        "import pandas as pd\n",
        "import numpy as np\n",
        "import tempfile\n",
        "import shutil"
      ]
    },
    {
      "cell_type": "code",
      "source": [
        "from google.colab import drive\n",
        "drive.mount('/content/drive')"
      ],
      "metadata": {
        "colab": {
          "base_uri": "https://localhost:8080/"
        },
        "id": "Y7K0Q66qdxrv",
        "outputId": "ea5d5d89-d81d-438f-b0e2-60d387093ef1"
      },
      "execution_count": 3,
      "outputs": [
        {
          "output_type": "stream",
          "name": "stdout",
          "text": [
            "Mounted at /content/drive\n"
          ]
        }
      ]
    },
    {
      "cell_type": "code",
      "execution_count": 4,
      "metadata": {
        "colab": {
          "base_uri": "https://localhost:8080/"
        },
        "id": "cCAKDf199cFO",
        "outputId": "94514b3a-823e-43cc-dcfa-4e0fc43e1c76"
      },
      "outputs": [
        {
          "output_type": "stream",
          "name": "stdout",
          "text": [
            "Delta Lake loaded: True\n"
          ]
        }
      ],
      "source": [
        "# Initialize a Spark session\n",
        "builder = SparkSession.builder \\\n",
        "    .appName(\"DataProcessingWithDeltaLake\") \\\n",
        "    .config(\"spark.jars.packages\", \"io.delta:delta-core_2.12:1.2.1\") \\\n",
        "    .config(\"spark.sql.extensions\", \"io.delta.sql.DeltaSparkSessionExtension\") \\\n",
        "    .config(\"spark.sql.catalog.spark_catalog\", \"org.apache.spark.sql.delta.catalog.DeltaCatalog\")\n",
        "\n",
        "spark = configure_spark_with_delta_pip(builder).getOrCreate()\n",
        "\n",
        "delta_extensions = spark.conf.get(\"spark.sql.extensions\", \"\")\n",
        "print(\"Delta Lake loaded:\", \"io.delta.sql.DeltaSparkSessionExtension\" in delta_extensions)"
      ]
    },
    {
      "cell_type": "markdown",
      "metadata": {
        "id": "oUgmPfPOA3g2"
      },
      "source": [
        "# Exploitation"
      ]
    },
    {
      "cell_type": "markdown",
      "metadata": {
        "id": "9yOn-WmXA8aL"
      },
      "source": [
        "## Descriptive Analysis"
      ]
    },
    {
      "cell_type": "code",
      "execution_count": 5,
      "metadata": {
        "colab": {
          "base_uri": "https://localhost:8080/"
        },
        "id": "a03K0oA4ktsP",
        "outputId": "2b07992d-ac4f-40d2-9629-87b1e5939f54"
      },
      "outputs": [
        {
          "output_type": "stream",
          "name": "stdout",
          "text": [
            "root\n",
            " |-- id: long (nullable = true)\n",
            " |-- name: string (nullable = true)\n",
            " |-- host_id: integer (nullable = true)\n",
            " |-- host_name: string (nullable = true)\n",
            " |-- neighbourhood_group: string (nullable = true)\n",
            " |-- neighbourhood: string (nullable = true)\n",
            " |-- latitude: double (nullable = true)\n",
            " |-- longitude: double (nullable = true)\n",
            " |-- room_type: string (nullable = true)\n",
            " |-- number_of_reviews: integer (nullable = true)\n",
            " |-- last_review: date (nullable = true)\n",
            " |-- reviews_per_month: double (nullable = true)\n",
            " |-- calculated_host_listings_count: integer (nullable = true)\n",
            " |-- availability_365: integer (nullable = true)\n",
            " |-- number_of_reviews_ltm: integer (nullable = true)\n",
            " |-- license: string (nullable = true)\n",
            " |-- days_since_last_review: integer (nullable = true)\n",
            " |-- room_type_encoded: integer (nullable = true)\n",
            " |-- date: date (nullable = true)\n",
            " |-- available: string (nullable = true)\n",
            " |-- price: float (nullable = true)\n",
            " |-- minimum_nights: integer (nullable = true)\n",
            " |-- maximum_nights: integer (nullable = true)\n",
            " |-- availability_percentage: double (nullable = true)\n",
            " |-- Germany_Tourists: long (nullable = true)\n",
            " |-- Spain_Tourists: long (nullable = true)\n",
            " |-- France_Tourists: long (nullable = true)\n",
            " |-- Italy_Tourists: long (nullable = true)\n",
            " |-- UK_Tourists: long (nullable = true)\n",
            " |-- Total_Tourists: long (nullable = true)\n",
            "\n",
            "+-----+--------------------+-------+-------------+-------------------+------------------+--------+---------+---------------+-----------------+-----------+-----------------+------------------------------+----------------+---------------------+-----------+----------------------+-----------------+----------+---------+-----+--------------+--------------+-----------------------+----------------+--------------+---------------+--------------+-----------+--------------+\n",
            "|   id|                name|host_id|    host_name|neighbourhood_group|     neighbourhood|latitude|longitude|      room_type|number_of_reviews|last_review|reviews_per_month|calculated_host_listings_count|availability_365|number_of_reviews_ltm|    license|days_since_last_review|room_type_encoded|      date|available|price|minimum_nights|maximum_nights|availability_percentage|Germany_Tourists|Spain_Tourists|France_Tourists|Italy_Tourists|UK_Tourists|Total_Tourists|\n",
            "+-----+--------------------+-------+-------------+-------------------+------------------+--------+---------+---------------+-----------------+-----------+-----------------+------------------------------+----------------+---------------------+-----------+----------------------+-----------------+----------+---------+-----+--------------+--------------+-----------------------+----------------+--------------+---------------+--------------+-----------+--------------+\n",
            "|18674|Rental unit in Ba...|  71615|Mireia  Maria|           Eixample|la Sagrada Família|41.40556|  2.17262|Entire home/apt|               40| 2023-11-07|             0.31|                            30|              39|                    7|HUTB-002062|                   225|                1|2024-06-14|        f| 95.0|             4|          1125|     10.684931506849315|              72|           249|             62|           100|         82|           565|\n",
            "|18674|Rental unit in Ba...|  71615|Mireia  Maria|           Eixample|la Sagrada Família|41.40556|  2.17262|Entire home/apt|               40| 2023-11-07|             0.31|                            30|              39|                    7|HUTB-002062|                   225|                1|2024-03-14|        f| 95.0|             3|          1125|     10.684931506849315|              60|           238|             60|            81|         66|           505|\n",
            "|18674|Rental unit in Ba...|  71615|Mireia  Maria|           Eixample|la Sagrada Família|41.40556|  2.17262|Entire home/apt|               40| 2023-11-07|             0.31|                            30|              39|                    7|HUTB-002062|                   225|                1|2024-05-01|        f| 95.0|             4|          1125|     10.684931506849315|              69|           270|             57|           101|         78|           575|\n",
            "|18674|Rental unit in Ba...|  71615|Mireia  Maria|           Eixample|la Sagrada Família|41.40556|  2.17262|Entire home/apt|               40| 2023-11-07|             0.31|                            30|              39|                    7|HUTB-002062|                   225|                1|2024-03-26|        f| 95.0|             4|          1125|     10.684931506849315|              50|           231|             63|            93|         85|           522|\n",
            "|18674|Rental unit in Ba...|  71615|Mireia  Maria|           Eixample|la Sagrada Família|41.40556|  2.17262|Entire home/apt|               40| 2023-11-07|             0.31|                            30|              39|                    7|HUTB-002062|                   225|                1|2024-06-15|        f| 95.0|             4|          1125|     10.684931506849315|              71|           289|             80|           105|         92|           637|\n",
            "|18674|Rental unit in Ba...|  71615|Mireia  Maria|           Eixample|la Sagrada Família|41.40556|  2.17262|Entire home/apt|               40| 2023-11-07|             0.31|                            30|              39|                    7|HUTB-002062|                   225|                1|2024-04-22|        f| 95.0|             4|          1125|     10.684931506849315|              63|           233|             56|            91|         82|           525|\n",
            "|18674|Rental unit in Ba...|  71615|Mireia  Maria|           Eixample|la Sagrada Família|41.40556|  2.17262|Entire home/apt|               40| 2023-11-07|             0.31|                            30|              39|                    7|HUTB-002062|                   225|                1|2024-03-17|        f| 95.0|             3|          1125|     10.684931506849315|              48|           244|             77|            78|         82|           529|\n",
            "|18674|Rental unit in Ba...|  71615|Mireia  Maria|           Eixample|la Sagrada Família|41.40556|  2.17262|Entire home/apt|               40| 2023-11-07|             0.31|                            30|              39|                    7|HUTB-002062|                   225|                1|2024-06-04|        f| 95.0|             4|          1125|     10.684931506849315|              65|           254|             77|            87|         97|           580|\n",
            "|18674|Rental unit in Ba...|  71615|Mireia  Maria|           Eixample|la Sagrada Família|41.40556|  2.17262|Entire home/apt|               40| 2023-11-07|             0.31|                            30|              39|                    7|HUTB-002062|                   225|                1|2024-04-02|        f| 95.0|             4|          1125|     10.684931506849315|              73|           255|             77|            82|         86|           573|\n",
            "|18674|Rental unit in Ba...|  71615|Mireia  Maria|           Eixample|la Sagrada Família|41.40556|  2.17262|Entire home/apt|               40| 2023-11-07|             0.31|                            30|              39|                    7|HUTB-002062|                   225|                1|2024-02-10|        f| 95.0|             2|          1125|     10.684931506849315|              59|           252|             63|            87|         78|           539|\n",
            "|18674|Rental unit in Ba...|  71615|Mireia  Maria|           Eixample|la Sagrada Família|41.40556|  2.17262|Entire home/apt|               40| 2023-11-07|             0.31|                            30|              39|                    7|HUTB-002062|                   225|                1|2024-02-16|        f| 95.0|             2|          1125|     10.684931506849315|              60|           226|             55|            76|         77|           494|\n",
            "|18674|Rental unit in Ba...|  71615|Mireia  Maria|           Eixample|la Sagrada Família|41.40556|  2.17262|Entire home/apt|               40| 2023-11-07|             0.31|                            30|              39|                    7|HUTB-002062|                   225|                1|2024-02-23|        f| 95.0|             3|          1125|     10.684931506849315|              57|           227|             58|            78|         70|           490|\n",
            "|18674|Rental unit in Ba...|  71615|Mireia  Maria|           Eixample|la Sagrada Família|41.40556|  2.17262|Entire home/apt|               40| 2023-11-07|             0.31|                            30|              39|                    7|HUTB-002062|                   225|                1|2024-01-25|        f| 95.0|             2|          1125|     10.684931506849315|              38|           224|             47|            55|         52|           416|\n",
            "|18674|Rental unit in Ba...|  71615|Mireia  Maria|           Eixample|la Sagrada Família|41.40556|  2.17262|Entire home/apt|               40| 2023-11-07|             0.31|                            30|              39|                    7|HUTB-002062|                   225|                1|2024-01-21|        t| 95.0|             2|          1125|     10.684931506849315|              41|           212|             43|            66|         58|           420|\n",
            "|18674|Rental unit in Ba...|  71615|Mireia  Maria|           Eixample|la Sagrada Família|41.40556|  2.17262|Entire home/apt|               40| 2023-11-07|             0.31|                            30|              39|                    7|HUTB-002062|                   225|                1|2024-02-28|        f| 95.0|             4|          1125|     10.684931506849315|              61|           231|             55|            71|         64|           482|\n",
            "|18674|Rental unit in Ba...|  71615|Mireia  Maria|           Eixample|la Sagrada Família|41.40556|  2.17262|Entire home/apt|               40| 2023-11-07|             0.31|                            30|              39|                    7|HUTB-002062|                   225|                1|2024-02-26|        f| 95.0|             4|          1125|     10.684931506849315|              55|           242|             65|            79|         77|           518|\n",
            "|18674|Rental unit in Ba...|  71615|Mireia  Maria|           Eixample|la Sagrada Família|41.40556|  2.17262|Entire home/apt|               40| 2023-11-07|             0.31|                            30|              39|                    7|HUTB-002062|                   225|                1|2024-05-22|        f| 95.0|             4|          1125|     10.684931506849315|              75|           277|             89|           108|         80|           629|\n",
            "|18674|Rental unit in Ba...|  71615|Mireia  Maria|           Eixample|la Sagrada Família|41.40556|  2.17262|Entire home/apt|               40| 2023-11-07|             0.31|                            30|              39|                    7|HUTB-002062|                   225|                1|2024-03-29|        f| 95.0|             4|          1125|     10.684931506849315|              69|           272|             72|            89|         71|           573|\n",
            "|18674|Rental unit in Ba...|  71615|Mireia  Maria|           Eixample|la Sagrada Família|41.40556|  2.17262|Entire home/apt|               40| 2023-11-07|             0.31|                            30|              39|                    7|HUTB-002062|                   225|                1|2024-01-30|        t| 95.0|             3|          1125|     10.684931506849315|              54|           200|             50|            69|         57|           430|\n",
            "|18674|Rental unit in Ba...|  71615|Mireia  Maria|           Eixample|la Sagrada Família|41.40556|  2.17262|Entire home/apt|               40| 2023-11-07|             0.31|                            30|              39|                    7|HUTB-002062|                   225|                1|2024-02-25|        f| 95.0|             4|          1125|     10.684931506849315|              50|           207|             52|            73|         66|           448|\n",
            "+-----+--------------------+-------+-------------+-------------------+------------------+--------+---------+---------------+-----------------+-----------+-----------------+------------------------------+----------------+---------------------+-----------+----------------------+-----------------+----------+---------+-----+--------------+--------------+-----------------------+----------------+--------------+---------------+--------------+-----------+--------------+\n",
            "only showing top 20 rows\n",
            "\n"
          ]
        }
      ],
      "source": [
        "delta_lake_path = \"/content/drive/MyDrive/BDM/Data/Formatted_Zone/filtered_df\"\n",
        "\n",
        "# Read the Delta Lake table\n",
        "filtered_df = spark.read.format(\"delta\").load(delta_lake_path)\n",
        "filtered_df.printSchema()\n",
        "filtered_df.show()"
      ]
    },
    {
      "cell_type": "markdown",
      "metadata": {
        "id": "JlLO14scITaY"
      },
      "source": [
        "### KPIs"
      ]
    },
    {
      "cell_type": "code",
      "execution_count": 6,
      "metadata": {
        "colab": {
          "base_uri": "https://localhost:8080/"
        },
        "id": "akW8-2HXBBMK",
        "outputId": "d8f37721-f0a6-4fe4-81c3-dd2ab68743b2"
      },
      "outputs": [
        {
          "output_type": "stream",
          "name": "stdout",
          "text": [
            "+-------------------+------------------+\n",
            "|neighbourhood_group|     average_price|\n",
            "+-------------------+------------------+\n",
            "|             Gràcia|252.91087552277205|\n",
            "|         Sant Martí| 309.8315567543374|\n",
            "|     Horta-Guinardó|129.51123475283543|\n",
            "|          Les Corts|172.57770826473492|\n",
            "|     Sants-Montjuïc|201.66637722817734|\n",
            "|         Nou Barris| 95.39879839786381|\n",
            "|Sarrià-Sant Gervasi|206.81039398652152|\n",
            "|           Eixample| 361.8364371214326|\n",
            "|        Sant Andreu|179.96796735526652|\n",
            "|       Ciutat Vella|233.49953475036816|\n",
            "+-------------------+------------------+\n",
            "\n",
            "+---------------+------------------+\n",
            "|      room_type|     average_price|\n",
            "+---------------+------------------+\n",
            "|    Shared room| 218.7249429078914|\n",
            "|     Hotel room|1315.9984906419802|\n",
            "|Entire home/apt|313.38256805448657|\n",
            "|   Private room|179.66480239230583|\n",
            "+---------------+------------------+\n",
            "\n",
            "+-------------------+------------------+\n",
            "|neighbourhood_group| availability_rate|\n",
            "+-------------------+------------------+\n",
            "|             Gràcia|60.285891175390205|\n",
            "|         Sant Martí| 58.84857948789674|\n",
            "|     Horta-Guinardó| 59.28015664858384|\n",
            "|          Les Corts| 52.46550739677819|\n",
            "|     Sants-Montjuïc|57.030242944080804|\n",
            "|         Nou Barris|56.391029844317885|\n",
            "|Sarrià-Sant Gervasi| 65.88550901789945|\n",
            "|           Eixample| 59.41878639723153|\n",
            "|        Sant Andreu| 61.05929127745021|\n",
            "|       Ciutat Vella|  51.1140616112743|\n",
            "+-------------------+------------------+\n",
            "\n",
            "+-----+--------------+\n",
            "|month|total_tourists|\n",
            "+-----+--------------+\n",
            "|   12|      99339025|\n",
            "|    1|     135430970|\n",
            "|    6|      87645412|\n",
            "|    3|     158916400|\n",
            "|    5|     186565842|\n",
            "|    4|     175934536|\n",
            "|    2|     137512976|\n",
            "+-----+--------------+\n",
            "\n"
          ]
        }
      ],
      "source": [
        "# Average price per area\n",
        "avg_price_per_neighbourhood_group = filtered_df.groupBy(\"neighbourhood_group\").agg(F.avg(\"price\").alias(\"average_price\"))\n",
        "avg_price_per_neighbourhood_group.show()\n",
        "\n",
        "# Average price per room type\n",
        "avg_price_per_room_type = filtered_df.groupBy(\"room_type\").agg(F.avg(\"price\").alias(\"average_price\"))\n",
        "avg_price_per_room_type.show()\n",
        "\n",
        "# Vacancy rate per area\n",
        "availability_rate_per_neighbourhood_group = filtered_df.groupBy(\"neighbourhood_group\").agg(F.avg(\"availability_percentage\").alias(\"availability_rate\"))\n",
        "availability_rate_per_neighbourhood_group.show()\n",
        "\n",
        "# Trends in the total number of tourists per month\n",
        "monthly_tourists_trend = filtered_df.groupBy(F.month(\"date\").alias(\"month\")).agg(F.sum(\"Total_Tourists\").alias(\"total_tourists\"))\n",
        "monthly_tourists_trend.show()\n",
        "\n",
        "# Save KPIs\n",
        "avg_price_per_neighbourhood_group.coalesce(1).write.csv(\"/content/drive/MyDrive/BDM/Data/Exploitation_Zone/KPIs/avg_price_per_neighbourhood_group.csv\", header=True, mode=\"overwrite\")\n",
        "avg_price_per_room_type.coalesce(1).write.csv(\"/content/drive/MyDrive/BDM/Data/Exploitation_Zone/KPIs/avg_price_per_room_type.csv\", header=True, mode=\"overwrite\")\n",
        "availability_rate_per_neighbourhood_group.coalesce(1).write.csv(\"/content/drive/MyDrive/BDM/Data/Exploitation_Zone/KPIs/availability_rate_per_neighbourhood_group.csv\", header=True, mode=\"overwrite\")\n",
        "monthly_tourists_trend.coalesce(1).write.csv(\"/content/drive/MyDrive/BDM/Data/Exploitation_Zone/KPIs/monthly_tourists_trend.csv\", header=True, mode=\"overwrite\")"
      ]
    },
    {
      "cell_type": "markdown",
      "metadata": {
        "id": "huwSV91OIVV1"
      },
      "source": [
        "## Predictive Analysis"
      ]
    },
    {
      "cell_type": "code",
      "source": [
        "delta_lake_path = \"/content/drive/MyDrive/BDM/Data/Formatted_Zone/filtered_df\"\n",
        "\n",
        "# Read the Delta Lake table\n",
        "filtered_df = spark.read.format(\"delta\").load(delta_lake_path)"
      ],
      "metadata": {
        "id": "beEnfDt9m1pk"
      },
      "execution_count": 7,
      "outputs": []
    },
    {
      "cell_type": "markdown",
      "metadata": {
        "id": "GxWSAc2gIcH7"
      },
      "source": [
        "### Data Splict"
      ]
    },
    {
      "cell_type": "code",
      "execution_count": 8,
      "metadata": {
        "id": "iTI1nKL_XCZC"
      },
      "outputs": [],
      "source": [
        "# spark = SparkSession.builder.appName(\"TouristRegression\").getOrCreate()\n",
        "# sc = spark.sparkContext\n",
        "\n",
        "# df = filtered_df.select(\"Germany_Tourists\", \"Italy_Tourists\").limit(5000)\n",
        "# df.show(5)\n",
        "\n",
        "# rdd = df.rdd.map(lambda row: LabeledPoint(row.Italy_Tourists, [row.Germany_Tourists]))\n",
        "# rdd = rdd.sample(False, 1.0, seed=42)\n",
        "\n",
        "# features = np.array([point.features[0] for point in rdd.collect()])\n",
        "# labels = np.array([point.label for point in rdd.collect()])\n",
        "\n",
        "# mean = np.mean(features)\n",
        "# std = np.std(features)\n",
        "# normalized_features = (features - mean) / std\n",
        "\n",
        "# normalized_data = [LabeledPoint(label, [feature]) for label, feature in zip(labels, normalized_features)]\n",
        "\n",
        "# train_rdd, test_rdd = sc.parallelize(normalized_data).randomSplit([0.8, 0.2], seed=42)"
      ]
    },
    {
      "cell_type": "code",
      "source": [
        "spark = SparkSession.builder.appName(\"TouristRegression\").getOrCreate()\n",
        "sc = spark.sparkContext\n",
        "\n",
        "df = filtered_df.select(\"Germany_Tourists\").limit(5000)\n",
        "df.show(5)\n",
        "\n",
        "tourist_data = df.collect()\n",
        "labeled_points = []\n",
        "for i in range(len(tourist_data) - 1):\n",
        "    current_day = tourist_data[i]['Germany_Tourists']\n",
        "    next_day = tourist_data[i + 1]['Germany_Tourists']\n",
        "    labeled_points.append(LabeledPoint(next_day, [current_day]))\n",
        "\n",
        "rdd = sc.parallelize(labeled_points)\n",
        "\n",
        "features = np.array([point.features[0] for point in rdd.collect()])\n",
        "labels = np.array([point.label for point in rdd.collect()])\n",
        "\n",
        "mean = np.mean(features)\n",
        "std = np.std(features)\n",
        "normalized_features = (features - mean) / std\n",
        "\n",
        "normalized_data = [LabeledPoint(label, [feature]) for label, feature in zip(labels, normalized_features)]\n",
        "\n",
        "train_rdd, test_rdd = sc.parallelize(normalized_data).randomSplit([0.8, 0.2], seed=42)"
      ],
      "metadata": {
        "colab": {
          "base_uri": "https://localhost:8080/"
        },
        "id": "VEDpN4kspaiG",
        "outputId": "c5e7aeb1-0e6e-4a85-8c64-4d1cd8386529"
      },
      "execution_count": 9,
      "outputs": [
        {
          "output_type": "stream",
          "name": "stdout",
          "text": [
            "+----------------+\n",
            "|Germany_Tourists|\n",
            "+----------------+\n",
            "|              72|\n",
            "|              60|\n",
            "|              69|\n",
            "|              50|\n",
            "|              71|\n",
            "+----------------+\n",
            "only showing top 5 rows\n",
            "\n"
          ]
        }
      ]
    },
    {
      "cell_type": "markdown",
      "metadata": {
        "id": "j1eD8Il_IeHf"
      },
      "source": [
        "### Model Training"
      ]
    },
    {
      "cell_type": "code",
      "execution_count": 10,
      "metadata": {
        "colab": {
          "base_uri": "https://localhost:8080/"
        },
        "id": "y1oVs-80IX61",
        "outputId": "b32905fd-3004-4685-9657-8bd709bb72ee"
      },
      "outputs": [
        {
          "output_type": "stream",
          "name": "stderr",
          "text": [
            "/usr/local/lib/python3.10/dist-packages/pyspark/mllib/regression.py:365: FutureWarning: Deprecated in 2.0.0. Use ml.regression.LinearRegression.\n",
            "  warnings.warn(\"Deprecated in 2.0.0. Use ml.regression.LinearRegression.\", FutureWarning)\n"
          ]
        }
      ],
      "source": [
        "learning_rate = 0.01\n",
        "iterations = 100\n",
        "\n",
        "lrm = LinearRegressionWithSGD.train(train_rdd, iterations=iterations, step=learning_rate, initialWeights=np.array([1.0]))"
      ]
    },
    {
      "cell_type": "markdown",
      "metadata": {
        "id": "ENZCXmLhVQWW"
      },
      "source": [
        "### Model Evaluation"
      ]
    },
    {
      "cell_type": "code",
      "source": [
        "test_features = np.array([point.features[0] for point in test_rdd.collect()])\n",
        "test_labels = np.array(test_rdd.map(lambda p: p.label).collect())\n",
        "test_original = test_features * std + mean\n",
        "\n",
        "predictions = []\n",
        "for feature in test_original:\n",
        "    prediction = lrm.predict([feature])\n",
        "    predictions.append(prediction)\n",
        "\n",
        "mse = mean_squared_error(test_labels, predictions)\n",
        "mae = mean_absolute_error(test_labels, predictions)\n",
        "r2 = r2_score(test_labels, predictions)\n",
        "\n",
        "print(f\"Mean Squared Error (MSE): {mse}\")\n",
        "print(f\"Mean Absolute Error (MAE): {mae}\")\n",
        "print(f\"R-squared (R²): {r2}\")"
      ],
      "metadata": {
        "colab": {
          "base_uri": "https://localhost:8080/"
        },
        "id": "p-FPCsYtgj5g",
        "outputId": "3f9a4dcf-98e4-48c7-9f29-fd1e9a317774"
      },
      "execution_count": 11,
      "outputs": [
        {
          "output_type": "stream",
          "name": "stdout",
          "text": [
            "Mean Squared Error (MSE): 371.3144684453166\n",
            "Mean Absolute Error (MAE): 15.88965944985962\n",
            "R-squared (R²): -2.0633918289788498\n"
          ]
        }
      ]
    },
    {
      "cell_type": "markdown",
      "metadata": {
        "id": "5_utg7VjVSbF"
      },
      "source": [
        "### Model & Predictions Store"
      ]
    },
    {
      "cell_type": "code",
      "source": [
        "results = spark.createDataFrame([Row(label=float(l), prediction=float(p)) for l, p in zip(test_labels, predictions)])"
      ],
      "metadata": {
        "id": "mgkLpEqzh1wQ"
      },
      "execution_count": 12,
      "outputs": []
    },
    {
      "cell_type": "code",
      "execution_count": 13,
      "metadata": {
        "id": "2HSRfI-MWMft"
      },
      "outputs": [],
      "source": [
        "output_path = \"/content/drive/MyDrive/BDM/Data/Exploitation_Zone/predictions.csv\"\n",
        "results.write.mode(\"overwrite\").csv(output_path, header=True)"
      ]
    },
    {
      "cell_type": "code",
      "execution_count": 14,
      "metadata": {
        "id": "RizSRfJp4i-u"
      },
      "outputs": [],
      "source": [
        "model_path = \"/content/drive/MyDrive/BDM/Data/Exploitation_Zone/lr_model\"\n",
        "if os.path.exists(model_path):\n",
        "    shutil.rmtree(model_path)\n",
        "\n",
        "lrm.save(sc, model_path)"
      ]
    },
    {
      "cell_type": "markdown",
      "metadata": {
        "id": "pULKgmnnIne-"
      },
      "source": [
        "# Stream analytics"
      ]
    },
    {
      "cell_type": "markdown",
      "source": [
        "## Load Saved"
      ],
      "metadata": {
        "id": "1e3BAry-zTm2"
      }
    },
    {
      "cell_type": "code",
      "source": [
        "model_path = \"/content/drive/MyDrive/BDM/Data/Exploitation_Zone/lr_model\"\n",
        "lr_model = LinearRegressionModel.load(sc, model_path)"
      ],
      "metadata": {
        "id": "R4MtWx1dzTDb"
      },
      "execution_count": 20,
      "outputs": []
    },
    {
      "cell_type": "markdown",
      "metadata": {
        "id": "IkmLPHLLdk5g"
      },
      "source": [
        "## Data Flow Simulator Prepare"
      ]
    },
    {
      "cell_type": "code",
      "source": [
        "delta_lake_path = \"/content/drive/MyDrive/BDM/Data/Formatted_Zone/filtered_df\"\n",
        "\n",
        "# Read the Delta Lake table\n",
        "filtered_df = spark.read.format(\"delta\").load(delta_lake_path)"
      ],
      "metadata": {
        "id": "dEfZqzvT1Ukj"
      },
      "execution_count": 32,
      "outputs": []
    },
    {
      "cell_type": "code",
      "execution_count": 28,
      "metadata": {
        "id": "tGOm5npSIodm",
        "colab": {
          "base_uri": "https://localhost:8080/"
        },
        "outputId": "817db0b8-c38e-4bc8-add4-6b4e26cf32b7"
      },
      "outputs": [
        {
          "output_type": "execute_result",
          "data": {
            "text/plain": [
              "[LabeledPoint(60.0, [72.0]),\n",
              " LabeledPoint(69.0, [60.0]),\n",
              " LabeledPoint(50.0, [69.0]),\n",
              " LabeledPoint(71.0, [50.0]),\n",
              " LabeledPoint(63.0, [71.0])]"
            ]
          },
          "metadata": {},
          "execution_count": 28
        }
      ],
      "source": [
        "df = filtered_df.select(\"Germany_Tourists\").limit(20)\n",
        "\n",
        "tourist_data = df.collect()\n",
        "labeled_points = []\n",
        "for i in range(len(tourist_data) - 1):\n",
        "    current_day = tourist_data[i]['Germany_Tourists']\n",
        "    next_day = tourist_data[i + 1]['Germany_Tourists']\n",
        "    labeled_points.append(LabeledPoint(next_day, [current_day]))\n",
        "\n",
        "rdd = sc.parallelize(labeled_points)\n",
        "rdd.take(5)"
      ]
    },
    {
      "cell_type": "markdown",
      "metadata": {
        "id": "lcqTxlHidnBx"
      },
      "source": [
        "## Streaming"
      ]
    },
    {
      "cell_type": "code",
      "execution_count": 29,
      "metadata": {
        "id": "cKK5UyCxebgq",
        "colab": {
          "base_uri": "https://localhost:8080/"
        },
        "outputId": "06a95d56-cb0c-4b47-a8c3-31e04a1de5bd"
      },
      "outputs": [
        {
          "output_type": "stream",
          "name": "stdout",
          "text": [
            "Current: 72.0, Prediction: 56.397803354426024\n",
            "Current: 60.0, Prediction: 46.998169462021686\n",
            "Current: 69.0, Prediction: 54.04789488132494\n",
            "Current: 50.0, Prediction: 39.16514121835141\n",
            "Current: 71.0, Prediction: 55.614500530059\n",
            "Current: 63.0, Prediction: 49.348077935122774\n",
            "Current: 48.0, Prediction: 37.598535569617354\n",
            "Current: 65.0, Prediction: 50.91468358385683\n",
            "Current: 73.0, Prediction: 57.18110617879305\n",
            "Current: 59.0, Prediction: 46.21486663765466\n",
            "Current: 60.0, Prediction: 46.998169462021686\n",
            "Current: 57.0, Prediction: 44.648260988920605\n",
            "Current: 38.0, Prediction: 29.76550732594707\n",
            "Current: 41.0, Prediction: 32.11541579904815\n",
            "Current: 61.0, Prediction: 47.78147228638872\n",
            "Current: 55.0, Prediction: 43.08165534018655\n",
            "Current: 75.0, Prediction: 58.74771182752711\n",
            "Current: 69.0, Prediction: 54.04789488132494\n",
            "Current: 54.0, Prediction: 42.298352515819516\n"
          ]
        }
      ],
      "source": [
        "def simulate_data_stream(rdd):\n",
        "    for point in rdd.collect():\n",
        "        yield point\n",
        "        time.sleep(1)\n",
        "\n",
        "for labeled_point in simulate_data_stream(rdd):\n",
        "    current_feature = labeled_point.features[0]\n",
        "    prediction = lr_model.predict([current_feature])\n",
        "    print(f\"Current: {current_feature}, Prediction: {prediction}\")"
      ]
    },
    {
      "cell_type": "code",
      "source": [
        "streaming_label = np.array(rdd.map(lambda p: p.label).collect())\n",
        "results = spark.createDataFrame([Row(label=float(l), prediction=float(p)) for l, p in zip(streaming_label, predictions)])"
      ],
      "metadata": {
        "id": "cjUJ8FDb3gzM"
      },
      "execution_count": 33,
      "outputs": []
    },
    {
      "cell_type": "code",
      "source": [
        "output_path = \"/content/drive/MyDrive/BDM/Data/Exploitation_Zone/Streaming_predictions.csv\"\n",
        "results.write.mode(\"overwrite\").csv(output_path, header=True)"
      ],
      "metadata": {
        "id": "qwjY6Jf43jy7"
      },
      "execution_count": 34,
      "outputs": []
    }
  ],
  "metadata": {
    "colab": {
      "toc_visible": true,
      "provenance": [],
      "include_colab_link": true
    },
    "kernelspec": {
      "display_name": "Python 3",
      "name": "python3"
    },
    "language_info": {
      "name": "python"
    }
  },
  "nbformat": 4,
  "nbformat_minor": 0
}