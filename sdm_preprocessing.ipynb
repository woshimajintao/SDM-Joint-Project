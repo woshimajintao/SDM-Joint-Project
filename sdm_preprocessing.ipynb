{
  "nbformat": 4,
  "nbformat_minor": 0,
  "metadata": {
    "colab": {
      "provenance": []
    },
    "kernelspec": {
      "name": "python3",
      "display_name": "Python 3"
    },
    "language_info": {
      "name": "python"
    }
  },
  "cells": [
    {
      "cell_type": "code",
      "source": [
        "!pip install pandas\n",
        "\n",
        "from google.colab import drive\n",
        "drive.mount('/content/drive')\n",
        "import pandas as pd\n",
        "\n",
        "csv_file_path = '/content/drive/My Drive/Colab Notebooks/bdm/listings.csv'\n",
        "\n",
        "df = pd.read_csv(csv_file_path)\n",
        "\n",
        "print(df.head())"
      ],
      "metadata": {
        "colab": {
          "base_uri": "https://localhost:8080/"
        },
        "id": "SgOdqlDOrtSC",
        "outputId": "d1dfe950-60bd-42f8-e112-73c1dae5181f"
      },
      "execution_count": null,
      "outputs": [
        {
          "output_type": "stream",
          "name": "stdout",
          "text": [
            "Requirement already satisfied: pandas in /usr/local/lib/python3.10/dist-packages (2.0.3)\n",
            "Requirement already satisfied: python-dateutil>=2.8.2 in /usr/local/lib/python3.10/dist-packages (from pandas) (2.8.2)\n",
            "Requirement already satisfied: pytz>=2020.1 in /usr/local/lib/python3.10/dist-packages (from pandas) (2023.4)\n",
            "Requirement already satisfied: tzdata>=2022.1 in /usr/local/lib/python3.10/dist-packages (from pandas) (2024.1)\n",
            "Requirement already satisfied: numpy>=1.21.0 in /usr/local/lib/python3.10/dist-packages (from pandas) (1.25.2)\n",
            "Requirement already satisfied: six>=1.5 in /usr/local/lib/python3.10/dist-packages (from python-dateutil>=2.8.2->pandas) (1.16.0)\n",
            "Mounted at /content/drive\n",
            "       id                          listing_url       scrape_id last_scraped  \\\n",
            "0  360863  https://www.airbnb.com/rooms/360863  20240320024717   2024-03-20   \n",
            "1   17475   https://www.airbnb.com/rooms/17475  20240320024717   2024-03-20   \n",
            "2   18674   https://www.airbnb.com/rooms/18674  20240320024717   2024-03-20   \n",
            "3   97529   https://www.airbnb.com/rooms/97529  20240320024717   2024-03-20   \n",
            "4  110041  https://www.airbnb.com/rooms/110041  20240320024717   2024-03-20   \n",
            "\n",
            "            source                                             name  \\\n",
            "0  previous scrape                SPECIAL OFFER @ COSY AND CHARMING   \n",
            "1      city scrape                            Attic Sagrada Familia   \n",
            "2      city scrape  Huge flat for 8 people close to Sagrada Familia   \n",
            "3  previous scrape    Furnished one bedroom apartment with bathroom   \n",
            "4      city scrape                            002. Alió 2 Apartment   \n",
            "\n",
            "                                         description  \\\n",
            "0  Fully furnished and renovated apartment in the...   \n",
            "1  Beautiful attic apartment <br />with large ter...   \n",
            "2  110m2 apartment to rent in Barcelona. Located ...   \n",
            "3  Fully furnished one bedoom apartment with bath...   \n",
            "4  A spectacular newly constructed apartment havi...   \n",
            "\n",
            "                               neighborhood_overview  \\\n",
            "0  The Barceloneta is a triangular spit of land t...   \n",
            "1                                                NaN   \n",
            "2  Apartment in Barcelona located in the heart of...   \n",
            "3  Located 800 meters from the Temple of the Sagr...   \n",
            "4                                                NaN   \n",
            "\n",
            "                                         picture_url  host_id  ...  \\\n",
            "0  https://a0.muscache.com/pictures/4378248/3e40f...  1824328  ...   \n",
            "1  https://a0.muscache.com/pictures/f6e6718f-dba0...    65623  ...   \n",
            "2  https://a0.muscache.com/pictures/13031453/413c...    71615  ...   \n",
            "3  https://a0.muscache.com/pictures/b6b1d492-6efa...   497450  ...   \n",
            "4  https://a0.muscache.com/pictures/24f2fe9f-61b6...   396363  ...   \n",
            "\n",
            "  review_scores_communication review_scores_location review_scores_value  \\\n",
            "0                        4.94                   4.71                4.74   \n",
            "1                        4.73                   4.82                4.50   \n",
            "2                        4.67                   4.77                4.28   \n",
            "3                        4.91                   4.45                4.71   \n",
            "4                        4.41                   4.65                4.11   \n",
            "\n",
            "       license instant_bookable calculated_host_listings_count  \\\n",
            "0          NaN                f                              2   \n",
            "1          NaN                f                              1   \n",
            "2  HUTB-002062                t                             28   \n",
            "3          NaN                f                              1   \n",
            "4  HUTB-003671                f                             95   \n",
            "\n",
            "  calculated_host_listings_count_entire_homes  \\\n",
            "0                                           1   \n",
            "1                                           1   \n",
            "2                                          28   \n",
            "3                                           1   \n",
            "4                                          95   \n",
            "\n",
            "  calculated_host_listings_count_private_rooms  \\\n",
            "0                                            1   \n",
            "1                                            0   \n",
            "2                                            0   \n",
            "3                                            0   \n",
            "4                                            0   \n",
            "\n",
            "  calculated_host_listings_count_shared_rooms reviews_per_month  \n",
            "0                                           0              0.22  \n",
            "1                                           0              0.17  \n",
            "2                                           0              0.30  \n",
            "3                                           0              0.45  \n",
            "4                                           0              0.38  \n",
            "\n",
            "[5 rows x 75 columns]\n"
          ]
        }
      ]
    },
    {
      "cell_type": "code",
      "source": [
        "csv_file_path = '/content/drive/My Drive/Colab Notebooks/bdm/calendar.csv'\n",
        "\n",
        "df = pd.read_csv(csv_file_path)\n",
        "\n",
        "print(df.head())\n"
      ],
      "metadata": {
        "colab": {
          "base_uri": "https://localhost:8080/"
        },
        "id": "evYuEEMj2S4H",
        "outputId": "82754c29-f30e-4233-8636-b6b08904035b"
      },
      "execution_count": null,
      "outputs": [
        {
          "output_type": "stream",
          "name": "stderr",
          "text": [
            "<ipython-input-2-e5e256cfcf47>:3: DtypeWarning: Columns (4) have mixed types. Specify dtype option on import or set low_memory=False.\n",
            "  df = pd.read_csv(csv_file_path)\n"
          ]
        },
        {
          "output_type": "stream",
          "name": "stdout",
          "text": [
            "   listing_id        date available   price adjusted_price  minimum_nights  \\\n",
            "0       97529  2024-03-20         f  $47.00            NaN             120   \n",
            "1      360863  2024-03-20         f  $50.00            NaN              31   \n",
            "2      360863  2024-03-21         f  $50.00            NaN              31   \n",
            "3      360863  2024-03-22         f  $50.00            NaN              31   \n",
            "4      360863  2024-03-23         f  $50.00            NaN              31   \n",
            "\n",
            "   maximum_nights  \n",
            "0            1125  \n",
            "1             150  \n",
            "2             150  \n",
            "3             150  \n",
            "4             150  \n"
          ]
        }
      ]
    },
    {
      "cell_type": "code",
      "source": [
        "df_first_20000 = df.head(20000)\n",
        "\n",
        "new_csv_file_path = '/content/drive/My Drive/Colab Notebooks/bdm/calendar1.csv'\n",
        "df_first_20000.to_csv(new_csv_file_path, index=False)\n",
        "\n",
        "print(f\"20000 rows data had reserved to {new_csv_file_path}\")"
      ],
      "metadata": {
        "colab": {
          "base_uri": "https://localhost:8080/"
        },
        "id": "yAgd7X5r5VUf",
        "outputId": "df3d1080-0a34-41ee-f5fa-b8712c84a718"
      },
      "execution_count": null,
      "outputs": [
        {
          "output_type": "stream",
          "name": "stdout",
          "text": [
            "20000 rows data had reserved to /content/drive/My Drive/Colab Notebooks/bdm/calendar1.csv\n"
          ]
        }
      ]
    },
    {
      "cell_type": "code",
      "source": [
        "import pandas as pd\n",
        "\n",
        "df_listing = pd.read_csv('/content/drive/My Drive/Colab Notebooks/bdm/listings.csv')\n",
        "df_calendar = pd.read_csv('/content/drive/My Drive/Colab Notebooks/bdm/calendar1.csv')\n",
        "\n",
        "df_merged = pd.merge(df_calendar, df_listing, left_on='listing_id', right_on='id', how='left')\n",
        "\n",
        "output_path = '/content/drive/My Drive/Colab Notebooks/bdm/merged_listings_calendar1.csv'\n",
        "df_merged.to_csv(output_path, index=False)\n",
        "\n",
        "print(f\"Combined Data Exported to {output_path}\")\n"
      ],
      "metadata": {
        "colab": {
          "base_uri": "https://localhost:8080/"
        },
        "id": "MfpDj4Hr3OH0",
        "outputId": "90d05316-cc31-4735-f912-c277954d2be6"
      },
      "execution_count": null,
      "outputs": [
        {
          "output_type": "stream",
          "name": "stdout",
          "text": [
            "Combined Data Exported to /content/drive/My Drive/Colab Notebooks/bdm/merged_listings_calendar1.csv\n"
          ]
        }
      ]
    },
    {
      "cell_type": "code",
      "source": [
        "csv_file_path = '/content/drive/My Drive/Colab Notebooks/bdm/merged_listings_calendar1.csv'\n",
        "\n",
        "df = pd.read_csv(csv_file_path)\n",
        "\n",
        "print(df.head())"
      ],
      "metadata": {
        "colab": {
          "base_uri": "https://localhost:8080/"
        },
        "id": "Kop-px3n44gO",
        "outputId": "9b02ea23-7a5e-48a2-eb2e-7c7384a807d5"
      },
      "execution_count": null,
      "outputs": [
        {
          "output_type": "stream",
          "name": "stdout",
          "text": [
            "   listing_id        date available price_x  adjusted_price  minimum_nights_x  \\\n",
            "0       97529  2024-03-20         f  $47.00             NaN               120   \n",
            "1      360863  2024-03-20         f  $50.00             NaN                31   \n",
            "2      360863  2024-03-21         f  $50.00             NaN                31   \n",
            "3      360863  2024-03-22         f  $50.00             NaN                31   \n",
            "4      360863  2024-03-23         f  $50.00             NaN                31   \n",
            "\n",
            "   maximum_nights_x      id                          listing_url  \\\n",
            "0              1125   97529   https://www.airbnb.com/rooms/97529   \n",
            "1               150  360863  https://www.airbnb.com/rooms/360863   \n",
            "2               150  360863  https://www.airbnb.com/rooms/360863   \n",
            "3               150  360863  https://www.airbnb.com/rooms/360863   \n",
            "4               150  360863  https://www.airbnb.com/rooms/360863   \n",
            "\n",
            "        scrape_id  ... review_scores_communication review_scores_location  \\\n",
            "0  20240320024717  ...                        4.91                   4.45   \n",
            "1  20240320024717  ...                        4.94                   4.71   \n",
            "2  20240320024717  ...                        4.94                   4.71   \n",
            "3  20240320024717  ...                        4.94                   4.71   \n",
            "4  20240320024717  ...                        4.94                   4.71   \n",
            "\n",
            "  review_scores_value license instant_bookable calculated_host_listings_count  \\\n",
            "0                4.71     NaN                f                              1   \n",
            "1                4.74     NaN                f                              2   \n",
            "2                4.74     NaN                f                              2   \n",
            "3                4.74     NaN                f                              2   \n",
            "4                4.74     NaN                f                              2   \n",
            "\n",
            "   calculated_host_listings_count_entire_homes  \\\n",
            "0                                            1   \n",
            "1                                            1   \n",
            "2                                            1   \n",
            "3                                            1   \n",
            "4                                            1   \n",
            "\n",
            "  calculated_host_listings_count_private_rooms  \\\n",
            "0                                            0   \n",
            "1                                            1   \n",
            "2                                            1   \n",
            "3                                            1   \n",
            "4                                            1   \n",
            "\n",
            "  calculated_host_listings_count_shared_rooms reviews_per_month  \n",
            "0                                           0              0.45  \n",
            "1                                           0              0.22  \n",
            "2                                           0              0.22  \n",
            "3                                           0              0.22  \n",
            "4                                           0              0.22  \n",
            "\n",
            "[5 rows x 82 columns]\n"
          ]
        }
      ]
    },
    {
      "cell_type": "code",
      "source": [
        "import csv\n",
        "\n",
        "input_file_path = '/content/drive/My Drive/Colab Notebooks/bdm/merged_listings_calendar1.csv'\n",
        "output_file_path = '/content/drive/My Drive/Colab Notebooks/bdm/cleaned_merged_listings_calendar1.csv'\n",
        "\n",
        "def clean_csv(input_file, output_file):\n",
        "    with open(input_file, 'r', encoding='utf-8') as infile, open(output_file, 'w', newline='', encoding='utf-8') as outfile:\n",
        "        reader = csv.reader(infile)\n",
        "        writer = csv.writer(outfile)\n",
        "\n",
        "        for row in reader:\n",
        "            cleaned_row = [field.replace('\"', '') for field in row]\n",
        "            writer.writerow(cleaned_row)\n",
        "\n",
        "clean_csv(input_file_path, output_file_path)\n",
        "print(\"CSV had reserved:\", output_file_path)\n"
      ],
      "metadata": {
        "colab": {
          "base_uri": "https://localhost:8080/"
        },
        "id": "9ff2T42344qG",
        "outputId": "3c9860a9-aa31-4f5a-e33c-a5ac7a84b024"
      },
      "execution_count": null,
      "outputs": [
        {
          "output_type": "stream",
          "name": "stdout",
          "text": [
            "CSV had reserved: /content/drive/My Drive/Colab Notebooks/bdm/cleaned_merged_listings_calendar1.csv\n"
          ]
        }
      ]
    },
    {
      "cell_type": "code",
      "source": [
        "csv_file_path = '/content/drive/My Drive/Colab Notebooks/bdm/merged_listings_calendar1.csv'\n",
        "\n",
        "df = pd.read_csv(csv_file_path)\n",
        "\n",
        "print(df.head())"
      ],
      "metadata": {
        "colab": {
          "base_uri": "https://localhost:8080/"
        },
        "id": "AVw6H9ei3OKV",
        "outputId": "bf9a8290-76cf-4dcc-d872-cb3fe953cea4"
      },
      "execution_count": null,
      "outputs": [
        {
          "output_type": "stream",
          "name": "stdout",
          "text": [
            "   listing_id        date available price_x  adjusted_price  minimum_nights_x  \\\n",
            "0       97529  2024-03-20         f  $47.00             NaN               120   \n",
            "1      360863  2024-03-20         f  $50.00             NaN                31   \n",
            "2      360863  2024-03-21         f  $50.00             NaN                31   \n",
            "3      360863  2024-03-22         f  $50.00             NaN                31   \n",
            "4      360863  2024-03-23         f  $50.00             NaN                31   \n",
            "\n",
            "   maximum_nights_x      id                          listing_url  \\\n",
            "0              1125   97529   https://www.airbnb.com/rooms/97529   \n",
            "1               150  360863  https://www.airbnb.com/rooms/360863   \n",
            "2               150  360863  https://www.airbnb.com/rooms/360863   \n",
            "3               150  360863  https://www.airbnb.com/rooms/360863   \n",
            "4               150  360863  https://www.airbnb.com/rooms/360863   \n",
            "\n",
            "        scrape_id  ... review_scores_communication review_scores_location  \\\n",
            "0  20240320024717  ...                        4.91                   4.45   \n",
            "1  20240320024717  ...                        4.94                   4.71   \n",
            "2  20240320024717  ...                        4.94                   4.71   \n",
            "3  20240320024717  ...                        4.94                   4.71   \n",
            "4  20240320024717  ...                        4.94                   4.71   \n",
            "\n",
            "  review_scores_value license instant_bookable calculated_host_listings_count  \\\n",
            "0                4.71     NaN                f                              1   \n",
            "1                4.74     NaN                f                              2   \n",
            "2                4.74     NaN                f                              2   \n",
            "3                4.74     NaN                f                              2   \n",
            "4                4.74     NaN                f                              2   \n",
            "\n",
            "   calculated_host_listings_count_entire_homes  \\\n",
            "0                                            1   \n",
            "1                                            1   \n",
            "2                                            1   \n",
            "3                                            1   \n",
            "4                                            1   \n",
            "\n",
            "  calculated_host_listings_count_private_rooms  \\\n",
            "0                                            0   \n",
            "1                                            1   \n",
            "2                                            1   \n",
            "3                                            1   \n",
            "4                                            1   \n",
            "\n",
            "  calculated_host_listings_count_shared_rooms reviews_per_month  \n",
            "0                                           0              0.45  \n",
            "1                                           0              0.22  \n",
            "2                                           0              0.22  \n",
            "3                                           0              0.22  \n",
            "4                                           0              0.22  \n",
            "\n",
            "[5 rows x 82 columns]\n"
          ]
        }
      ]
    },
    {
      "cell_type": "code",
      "source": [
        "import pandas as pd\n",
        "import ast\n",
        "\n",
        "input_file_path = '/content/drive/My Drive/Colab Notebooks/bdm/merged_listings_calendar1.csv'\n",
        "df = pd.read_csv(input_file_path)\n",
        "\n",
        "print(\"Column Name：\", df.columns)\n",
        "\n",
        "def clean_amenities(amenities):\n",
        "    try:\n",
        "        amenities_list = ast.literal_eval(amenities)\n",
        "        if isinstance(amenities_list, list):\n",
        "            return ','.join([amenity.strip() for amenity in amenities_list])\n",
        "        else:\n",
        "            return amenities\n",
        "    except:\n",
        "        return amenities\n",
        "\n",
        "df['amenities'] = df['amenities'].apply(clean_amenities)\n",
        "\n",
        "location_columns = ['neighborhood', 'city', 'state', 'country', 'latitude', 'longitude']\n",
        "for column in location_columns:\n",
        "    if column in df.columns:\n",
        "        if column in ['latitude', 'longitude']:\n",
        "            df[column] = pd.to_numeric(df[column], errors='coerce')\n",
        "        else:\n",
        "            df[column] = df[column].fillna('Unknown')\n",
        "    else:\n",
        "        print(f\"column '{column}' not exist\")\n",
        "\n",
        "output_file_path = '/content/drive/My Drive/Colab Notebooks/bdm/cleaned_merged_listings_calendar1.csv'\n",
        "df.to_csv(output_file_path, index=False)\n",
        "print(f\"Cleaned CSV saved to: {output_file_path}\")\n"
      ],
      "metadata": {
        "colab": {
          "base_uri": "https://localhost:8080/"
        },
        "id": "2ImPJIol-O7W",
        "outputId": "c18a8108-f7d0-4df2-8a64-d29fb3ea0aa5"
      },
      "execution_count": null,
      "outputs": [
        {
          "output_type": "stream",
          "name": "stdout",
          "text": [
            "Column Name： Index(['listing_id', 'date', 'available', 'price_x', 'adjusted_price',\n",
            "       'minimum_nights_x', 'maximum_nights_x', 'id', 'listing_url',\n",
            "       'scrape_id', 'last_scraped', 'source', 'name', 'description',\n",
            "       'neighborhood_overview', 'picture_url', 'host_id', 'host_url',\n",
            "       'host_name', 'host_since', 'host_location', 'host_about',\n",
            "       'host_response_time', 'host_response_rate', 'host_acceptance_rate',\n",
            "       'host_is_superhost', 'host_thumbnail_url', 'host_picture_url',\n",
            "       'host_neighbourhood', 'host_listings_count',\n",
            "       'host_total_listings_count', 'host_verifications',\n",
            "       'host_has_profile_pic', 'host_identity_verified', 'neighbourhood',\n",
            "       'neighbourhood_cleansed', 'neighbourhood_group_cleansed', 'latitude',\n",
            "       'longitude', 'property_type', 'room_type', 'accommodates', 'bathrooms',\n",
            "       'bathrooms_text', 'bedrooms', 'beds', 'amenities', 'price_y',\n",
            "       'minimum_nights_y', 'maximum_nights_y', 'minimum_minimum_nights',\n",
            "       'maximum_minimum_nights', 'minimum_maximum_nights',\n",
            "       'maximum_maximum_nights', 'minimum_nights_avg_ntm',\n",
            "       'maximum_nights_avg_ntm', 'calendar_updated', 'has_availability',\n",
            "       'availability_30', 'availability_60', 'availability_90',\n",
            "       'availability_365', 'calendar_last_scraped', 'number_of_reviews',\n",
            "       'number_of_reviews_ltm', 'number_of_reviews_l30d', 'first_review',\n",
            "       'last_review', 'review_scores_rating', 'review_scores_accuracy',\n",
            "       'review_scores_cleanliness', 'review_scores_checkin',\n",
            "       'review_scores_communication', 'review_scores_location',\n",
            "       'review_scores_value', 'license', 'instant_bookable',\n",
            "       'calculated_host_listings_count',\n",
            "       'calculated_host_listings_count_entire_homes',\n",
            "       'calculated_host_listings_count_private_rooms',\n",
            "       'calculated_host_listings_count_shared_rooms', 'reviews_per_month'],\n",
            "      dtype='object')\n",
            "column 'neighborhood' not exist\n",
            "column 'city' not exist\n",
            "column 'state' not exist\n",
            "column 'country' not exist\n",
            "Cleaned CSV saved to: /content/drive/My Drive/Colab Notebooks/bdm/cleaned_merged_listings_calendar1.csv\n"
          ]
        }
      ]
    },
    {
      "cell_type": "code",
      "source": [
        "# I had run all of them again"
      ],
      "metadata": {
        "id": "9llKOq9p-O-U"
      },
      "execution_count": null,
      "outputs": []
    },
    {
      "cell_type": "code",
      "source": [
        "import pandas as pd\n",
        "import ast\n",
        "\n",
        "# Read the CSV file\n",
        "input_file_path = '/content/drive/My Drive/Colab Notebooks/bdm/merged_listings_calendar1.csv'\n",
        "df = pd.read_csv(input_file_path)\n",
        "\n",
        "# Print column names\n",
        "print(\"Column Name:\", df.columns)\n",
        "\n",
        "# Clean the amenities column\n",
        "def clean_amenities(amenities):\n",
        "    try:\n",
        "        amenities_list = ast.literal_eval(amenities)\n",
        "        if isinstance(amenities_list, list):\n",
        "            return ','.join([amenity.strip() for amenity in amenities_list])\n",
        "        else:\n",
        "            return amenities\n",
        "    except:\n",
        "        return amenities\n",
        "\n",
        "df['amenities'] = df['amenities'].apply(clean_amenities)\n",
        "\n",
        "# Clean location-related columns\n",
        "location_columns = ['neighbourhood', 'city', 'state', 'country', 'latitude', 'longitude']\n",
        "for column in location_columns:\n",
        "    if column in df.columns:\n",
        "        if column in ['latitude', 'longitude']:\n",
        "            df[column] = pd.to_numeric(df[column], errors='coerce')\n",
        "        else:\n",
        "            df[column] = df[column].fillna('Unknown')\n",
        "    else:\n",
        "        print(f\"column '{column}' not exist\")\n",
        "\n",
        "# Remove currency symbols from price_x and adjusted_price columns and convert to float\n",
        "def clean_price(price):\n",
        "    try:\n",
        "        return float(price.replace('$', '').replace(',', '').strip())\n",
        "    except:\n",
        "        return None\n",
        "\n",
        "df['price_x'] = df['price_x'].apply(clean_price)\n",
        "df['adjusted_price'] = df['adjusted_price'].apply(clean_price)\n",
        "\n",
        "# Save the cleaned CSV file\n",
        "output_file_path = '/content/drive/My Drive/Colab Notebooks/bdm/cleaned_merged_listings_calendar2.csv'\n",
        "df.to_csv(output_file_path, index=False)\n",
        "print(f\"Cleaned CSV saved to: {output_file_path}\")\n"
      ],
      "metadata": {
        "id": "gBQEhizf3OMs",
        "colab": {
          "base_uri": "https://localhost:8080/"
        },
        "outputId": "021f4a63-4ff4-45ed-a916-870d5e6bbd3b"
      },
      "execution_count": null,
      "outputs": [
        {
          "output_type": "stream",
          "name": "stdout",
          "text": [
            "Column Name： Index(['listing_id', 'date', 'available', 'price_x', 'adjusted_price',\n",
            "       'minimum_nights_x', 'maximum_nights_x', 'id', 'listing_url',\n",
            "       'scrape_id', 'last_scraped', 'source', 'name', 'description',\n",
            "       'neighborhood_overview', 'picture_url', 'host_id', 'host_url',\n",
            "       'host_name', 'host_since', 'host_location', 'host_about',\n",
            "       'host_response_time', 'host_response_rate', 'host_acceptance_rate',\n",
            "       'host_is_superhost', 'host_thumbnail_url', 'host_picture_url',\n",
            "       'host_neighbourhood', 'host_listings_count',\n",
            "       'host_total_listings_count', 'host_verifications',\n",
            "       'host_has_profile_pic', 'host_identity_verified', 'neighbourhood',\n",
            "       'neighbourhood_cleansed', 'neighbourhood_group_cleansed', 'latitude',\n",
            "       'longitude', 'property_type', 'room_type', 'accommodates', 'bathrooms',\n",
            "       'bathrooms_text', 'bedrooms', 'beds', 'amenities', 'price_y',\n",
            "       'minimum_nights_y', 'maximum_nights_y', 'minimum_minimum_nights',\n",
            "       'maximum_minimum_nights', 'minimum_maximum_nights',\n",
            "       'maximum_maximum_nights', 'minimum_nights_avg_ntm',\n",
            "       'maximum_nights_avg_ntm', 'calendar_updated', 'has_availability',\n",
            "       'availability_30', 'availability_60', 'availability_90',\n",
            "       'availability_365', 'calendar_last_scraped', 'number_of_reviews',\n",
            "       'number_of_reviews_ltm', 'number_of_reviews_l30d', 'first_review',\n",
            "       'last_review', 'review_scores_rating', 'review_scores_accuracy',\n",
            "       'review_scores_cleanliness', 'review_scores_checkin',\n",
            "       'review_scores_communication', 'review_scores_location',\n",
            "       'review_scores_value', 'license', 'instant_bookable',\n",
            "       'calculated_host_listings_count',\n",
            "       'calculated_host_listings_count_entire_homes',\n",
            "       'calculated_host_listings_count_private_rooms',\n",
            "       'calculated_host_listings_count_shared_rooms', 'reviews_per_month'],\n",
            "      dtype='object')\n",
            "column 'city' not exist\n",
            "column 'state' not exist\n",
            "column 'country' not exist\n",
            "Cleaned CSV saved to: /content/drive/My Drive/Colab Notebooks/bdm/cleaned_merged_listings_calendar2.csv\n"
          ]
        }
      ]
    },
    {
      "cell_type": "code",
      "source": [
        "print(\"\\nSample data from 'price_x' column after cleaning:\")\n",
        "print(df['price_x'].head(10))\n"
      ],
      "metadata": {
        "colab": {
          "base_uri": "https://localhost:8080/"
        },
        "id": "eQ2ff0eS_mEO",
        "outputId": "56ea467e-881a-4bd1-fe43-81c5b4ff1bff"
      },
      "execution_count": null,
      "outputs": [
        {
          "output_type": "stream",
          "name": "stdout",
          "text": [
            "\n",
            "Sample data from 'price_x' column after cleaning:\n",
            "0    47.0\n",
            "1    50.0\n",
            "2    50.0\n",
            "3    50.0\n",
            "4    50.0\n",
            "5    50.0\n",
            "6    50.0\n",
            "7    50.0\n",
            "8    50.0\n",
            "9    50.0\n",
            "Name: price_x, dtype: float64\n"
          ]
        }
      ]
    }
  ]
}